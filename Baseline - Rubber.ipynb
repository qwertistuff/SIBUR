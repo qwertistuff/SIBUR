{
 "cells": [
  {
   "cell_type": "code",
   "execution_count": 1,
   "metadata": {
    "ExecuteTime": {
     "end_time": "2019-10-14T03:12:14.905228Z",
     "start_time": "2019-10-14T03:12:13.865229Z"
    }
   },
   "outputs": [
    {
     "name": "stdout",
     "output_type": "stream",
     "text": [
      "Populating the interactive namespace from numpy and matplotlib\n"
     ]
    }
   ],
   "source": [
    "%pylab inline\n",
    "plt.style.use(\"bmh\")"
   ]
  },
  {
   "cell_type": "code",
   "execution_count": 2,
   "metadata": {
    "ExecuteTime": {
     "end_time": "2019-10-14T03:12:14.922137Z",
     "start_time": "2019-10-14T03:12:14.912361Z"
    }
   },
   "outputs": [],
   "source": [
    "plt.rcParams[\"figure.figsize\"] = (6,6)"
   ]
  },
  {
   "cell_type": "code",
   "execution_count": 3,
   "metadata": {
    "ExecuteTime": {
     "end_time": "2019-10-14T03:12:15.712634Z",
     "start_time": "2019-10-14T03:12:14.930509Z"
    }
   },
   "outputs": [],
   "source": [
    "import numpy as np\n",
    "import pandas as pd"
   ]
  },
  {
   "cell_type": "code",
   "execution_count": 4,
   "metadata": {
    "ExecuteTime": {
     "end_time": "2019-10-14T03:12:15.735930Z",
     "start_time": "2019-10-14T03:12:15.716622Z"
    }
   },
   "outputs": [],
   "source": [
    "import tqdm\n",
    "import pathlib"
   ]
  },
  {
   "cell_type": "code",
   "execution_count": 5,
   "metadata": {
    "ExecuteTime": {
     "end_time": "2019-10-14T03:12:16.769586Z",
     "start_time": "2019-10-14T03:12:15.740276Z"
    }
   },
   "outputs": [],
   "source": [
    "from sklearn.linear_model import ElasticNet\n",
    "from sklearn.metrics import mean_absolute_error\n",
    "from sklearn.preprocessing import StandardScaler\n",
    "from sklearn.model_selection import ParameterGrid"
   ]
  },
  {
   "cell_type": "code",
   "execution_count": 6,
   "metadata": {
    "ExecuteTime": {
     "end_time": "2019-10-14T03:12:16.786391Z",
     "start_time": "2019-10-14T03:12:16.775848Z"
    }
   },
   "outputs": [],
   "source": [
    "DATA_DIR = pathlib.Path(\"./\")"
   ]
  },
  {
   "cell_type": "code",
   "execution_count": 7,
   "metadata": {
    "ExecuteTime": {
     "end_time": "2019-10-14T03:12:16.797014Z",
     "start_time": "2019-10-14T03:12:16.790968Z"
    }
   },
   "outputs": [],
   "source": [
    "RS = 283654"
   ]
  },
  {
   "cell_type": "markdown",
   "metadata": {},
   "source": [
    "### Версии:\n",
    "\n",
    "- `numpy`: 1.16.3\n",
    "- `pandas`: 0.24.2\n",
    "- `sklearn`: 0.21.2"
   ]
  },
  {
   "cell_type": "markdown",
   "metadata": {},
   "source": [
    "# Загрузка данных"
   ]
  },
  {
   "cell_type": "code",
   "execution_count": 8,
   "metadata": {
    "ExecuteTime": {
     "end_time": "2019-10-14T03:12:16.867300Z",
     "start_time": "2019-10-14T03:12:16.803728Z"
    }
   },
   "outputs": [],
   "source": [
    "train_target = pd.read_csv(DATA_DIR.joinpath(\"rubber_target_train.csv\"), index_col=\"date\", parse_dates=[\"date\"])\n",
    "test_target = pd.read_csv(DATA_DIR.joinpath(\"rubber_test_timestamps.csv\"), index_col=\"date\", parse_dates=[\"date\"])\n",
    "data = pd.read_csv(DATA_DIR.joinpath(\"rubber_daily.csv\"), index_col=\"date\", parse_dates=[\"date\"])"
   ]
  },
  {
   "cell_type": "code",
   "execution_count": 9,
   "metadata": {
    "ExecuteTime": {
     "end_time": "2019-10-14T03:12:16.896154Z",
     "start_time": "2019-10-14T03:12:16.871675Z"
    }
   },
   "outputs": [
    {
     "data": {
      "text/html": [
       "<div>\n",
       "<style scoped>\n",
       "    .dataframe tbody tr th:only-of-type {\n",
       "        vertical-align: middle;\n",
       "    }\n",
       "\n",
       "    .dataframe tbody tr th {\n",
       "        vertical-align: top;\n",
       "    }\n",
       "\n",
       "    .dataframe thead th {\n",
       "        text-align: right;\n",
       "    }\n",
       "</style>\n",
       "<table border=\"1\" class=\"dataframe\">\n",
       "  <thead>\n",
       "    <tr style=\"text-align: right;\">\n",
       "      <th></th>\n",
       "      <th>rubber</th>\n",
       "    </tr>\n",
       "    <tr>\n",
       "      <th>date</th>\n",
       "      <th></th>\n",
       "    </tr>\n",
       "  </thead>\n",
       "  <tbody>\n",
       "    <tr>\n",
       "      <th>2002-08-01</th>\n",
       "      <td>830.595238</td>\n",
       "    </tr>\n",
       "    <tr>\n",
       "      <th>2002-09-01</th>\n",
       "      <td>895.476190</td>\n",
       "    </tr>\n",
       "    <tr>\n",
       "      <th>2002-10-01</th>\n",
       "      <td>831.304348</td>\n",
       "    </tr>\n",
       "    <tr>\n",
       "      <th>2002-11-01</th>\n",
       "      <td>840.250000</td>\n",
       "    </tr>\n",
       "    <tr>\n",
       "      <th>2002-12-01</th>\n",
       "      <td>849.875000</td>\n",
       "    </tr>\n",
       "  </tbody>\n",
       "</table>\n",
       "</div>"
      ],
      "text/plain": [
       "                rubber\n",
       "date                  \n",
       "2002-08-01  830.595238\n",
       "2002-09-01  895.476190\n",
       "2002-10-01  831.304348\n",
       "2002-11-01  840.250000\n",
       "2002-12-01  849.875000"
      ]
     },
     "execution_count": 9,
     "metadata": {},
     "output_type": "execute_result"
    }
   ],
   "source": [
    "train_target.head()"
   ]
  },
  {
   "cell_type": "code",
   "execution_count": 10,
   "metadata": {
    "ExecuteTime": {
     "end_time": "2019-10-14T03:12:16.959211Z",
     "start_time": "2019-10-14T03:12:16.901414Z"
    }
   },
   "outputs": [
    {
     "data": {
      "text/html": [
       "<div>\n",
       "<style scoped>\n",
       "    .dataframe tbody tr th:only-of-type {\n",
       "        vertical-align: middle;\n",
       "    }\n",
       "\n",
       "    .dataframe tbody tr th {\n",
       "        vertical-align: top;\n",
       "    }\n",
       "\n",
       "    .dataframe thead th {\n",
       "        text-align: right;\n",
       "    }\n",
       "</style>\n",
       "<table border=\"1\" class=\"dataframe\">\n",
       "  <thead>\n",
       "    <tr style=\"text-align: right;\">\n",
       "      <th></th>\n",
       "      <th>brent_close</th>\n",
       "      <th>brent_open</th>\n",
       "      <th>brent_max</th>\n",
       "      <th>brent_min</th>\n",
       "      <th>USDCNY_close</th>\n",
       "      <th>USDCNY_open</th>\n",
       "      <th>USDCNY_max</th>\n",
       "      <th>USDCNY_min</th>\n",
       "      <th>USDTHB_mid</th>\n",
       "      <th>USDTHB_max</th>\n",
       "      <th>...</th>\n",
       "      <th>USDTHB_open</th>\n",
       "      <th>USDIDR_mid</th>\n",
       "      <th>USDIDR_max</th>\n",
       "      <th>USDIDR_min</th>\n",
       "      <th>USDIDR_open</th>\n",
       "      <th>USDVND_mid</th>\n",
       "      <th>USDVND_max</th>\n",
       "      <th>USDVND_min</th>\n",
       "      <th>USDVND_open</th>\n",
       "      <th>rubber_close</th>\n",
       "    </tr>\n",
       "    <tr>\n",
       "      <th>date</th>\n",
       "      <th></th>\n",
       "      <th></th>\n",
       "      <th></th>\n",
       "      <th></th>\n",
       "      <th></th>\n",
       "      <th></th>\n",
       "      <th></th>\n",
       "      <th></th>\n",
       "      <th></th>\n",
       "      <th></th>\n",
       "      <th></th>\n",
       "      <th></th>\n",
       "      <th></th>\n",
       "      <th></th>\n",
       "      <th></th>\n",
       "      <th></th>\n",
       "      <th></th>\n",
       "      <th></th>\n",
       "      <th></th>\n",
       "      <th></th>\n",
       "      <th></th>\n",
       "    </tr>\n",
       "  </thead>\n",
       "  <tbody>\n",
       "    <tr>\n",
       "      <th>2002-07-01</th>\n",
       "      <td>25.64</td>\n",
       "      <td>25.50</td>\n",
       "      <td>25.72</td>\n",
       "      <td>25.39</td>\n",
       "      <td>8.2770</td>\n",
       "      <td>8.2770</td>\n",
       "      <td>8.2770</td>\n",
       "      <td>8.2770</td>\n",
       "      <td>41.570</td>\n",
       "      <td>41.570</td>\n",
       "      <td>...</td>\n",
       "      <td>41.50</td>\n",
       "      <td>8710.0</td>\n",
       "      <td>8715.0</td>\n",
       "      <td>8669.0</td>\n",
       "      <td>8700.0</td>\n",
       "      <td>15297.5</td>\n",
       "      <td>NaN</td>\n",
       "      <td>NaN</td>\n",
       "      <td>NaN</td>\n",
       "      <td>835.0</td>\n",
       "    </tr>\n",
       "    <tr>\n",
       "      <th>2002-07-02</th>\n",
       "      <td>25.75</td>\n",
       "      <td>25.61</td>\n",
       "      <td>25.97</td>\n",
       "      <td>25.60</td>\n",
       "      <td>8.2769</td>\n",
       "      <td>8.2769</td>\n",
       "      <td>8.2769</td>\n",
       "      <td>8.2769</td>\n",
       "      <td>41.515</td>\n",
       "      <td>41.560</td>\n",
       "      <td>...</td>\n",
       "      <td>41.54</td>\n",
       "      <td>8805.0</td>\n",
       "      <td>8820.0</td>\n",
       "      <td>8720.0</td>\n",
       "      <td>8720.0</td>\n",
       "      <td>15297.0</td>\n",
       "      <td>NaN</td>\n",
       "      <td>NaN</td>\n",
       "      <td>NaN</td>\n",
       "      <td>827.5</td>\n",
       "    </tr>\n",
       "    <tr>\n",
       "      <th>2002-07-03</th>\n",
       "      <td>25.84</td>\n",
       "      <td>25.73</td>\n",
       "      <td>25.96</td>\n",
       "      <td>25.52</td>\n",
       "      <td>8.2768</td>\n",
       "      <td>8.2768</td>\n",
       "      <td>8.2768</td>\n",
       "      <td>8.2768</td>\n",
       "      <td>41.610</td>\n",
       "      <td>41.645</td>\n",
       "      <td>...</td>\n",
       "      <td>41.53</td>\n",
       "      <td>8965.0</td>\n",
       "      <td>8985.0</td>\n",
       "      <td>8790.0</td>\n",
       "      <td>8825.0</td>\n",
       "      <td>15297.5</td>\n",
       "      <td>NaN</td>\n",
       "      <td>NaN</td>\n",
       "      <td>NaN</td>\n",
       "      <td>847.5</td>\n",
       "    </tr>\n",
       "    <tr>\n",
       "      <th>2002-07-04</th>\n",
       "      <td>25.55</td>\n",
       "      <td>25.88</td>\n",
       "      <td>25.94</td>\n",
       "      <td>25.50</td>\n",
       "      <td>8.2767</td>\n",
       "      <td>8.2767</td>\n",
       "      <td>8.2767</td>\n",
       "      <td>8.2767</td>\n",
       "      <td>41.545</td>\n",
       "      <td>41.620</td>\n",
       "      <td>...</td>\n",
       "      <td>41.50</td>\n",
       "      <td>8855.0</td>\n",
       "      <td>8970.0</td>\n",
       "      <td>8790.0</td>\n",
       "      <td>8790.0</td>\n",
       "      <td>15298.5</td>\n",
       "      <td>NaN</td>\n",
       "      <td>NaN</td>\n",
       "      <td>NaN</td>\n",
       "      <td>847.5</td>\n",
       "    </tr>\n",
       "    <tr>\n",
       "      <th>2002-07-05</th>\n",
       "      <td>25.73</td>\n",
       "      <td>25.65</td>\n",
       "      <td>25.75</td>\n",
       "      <td>25.42</td>\n",
       "      <td>8.2766</td>\n",
       "      <td>8.2766</td>\n",
       "      <td>8.2766</td>\n",
       "      <td>8.2766</td>\n",
       "      <td>41.645</td>\n",
       "      <td>41.640</td>\n",
       "      <td>...</td>\n",
       "      <td>41.56</td>\n",
       "      <td>8860.0</td>\n",
       "      <td>8850.0</td>\n",
       "      <td>8815.0</td>\n",
       "      <td>8830.0</td>\n",
       "      <td>15295.0</td>\n",
       "      <td>NaN</td>\n",
       "      <td>NaN</td>\n",
       "      <td>NaN</td>\n",
       "      <td>847.5</td>\n",
       "    </tr>\n",
       "  </tbody>\n",
       "</table>\n",
       "<p>5 rows × 21 columns</p>\n",
       "</div>"
      ],
      "text/plain": [
       "            brent_close  brent_open  brent_max  brent_min  USDCNY_close  \\\n",
       "date                                                                      \n",
       "2002-07-01        25.64       25.50      25.72      25.39        8.2770   \n",
       "2002-07-02        25.75       25.61      25.97      25.60        8.2769   \n",
       "2002-07-03        25.84       25.73      25.96      25.52        8.2768   \n",
       "2002-07-04        25.55       25.88      25.94      25.50        8.2767   \n",
       "2002-07-05        25.73       25.65      25.75      25.42        8.2766   \n",
       "\n",
       "            USDCNY_open  USDCNY_max  USDCNY_min  USDTHB_mid  USDTHB_max  ...  \\\n",
       "date                                                                     ...   \n",
       "2002-07-01       8.2770      8.2770      8.2770      41.570      41.570  ...   \n",
       "2002-07-02       8.2769      8.2769      8.2769      41.515      41.560  ...   \n",
       "2002-07-03       8.2768      8.2768      8.2768      41.610      41.645  ...   \n",
       "2002-07-04       8.2767      8.2767      8.2767      41.545      41.620  ...   \n",
       "2002-07-05       8.2766      8.2766      8.2766      41.645      41.640  ...   \n",
       "\n",
       "            USDTHB_open  USDIDR_mid  USDIDR_max  USDIDR_min  USDIDR_open  \\\n",
       "date                                                                       \n",
       "2002-07-01        41.50      8710.0      8715.0      8669.0       8700.0   \n",
       "2002-07-02        41.54      8805.0      8820.0      8720.0       8720.0   \n",
       "2002-07-03        41.53      8965.0      8985.0      8790.0       8825.0   \n",
       "2002-07-04        41.50      8855.0      8970.0      8790.0       8790.0   \n",
       "2002-07-05        41.56      8860.0      8850.0      8815.0       8830.0   \n",
       "\n",
       "            USDVND_mid  USDVND_max  USDVND_min  USDVND_open  rubber_close  \n",
       "date                                                                       \n",
       "2002-07-01     15297.5         NaN         NaN          NaN         835.0  \n",
       "2002-07-02     15297.0         NaN         NaN          NaN         827.5  \n",
       "2002-07-03     15297.5         NaN         NaN          NaN         847.5  \n",
       "2002-07-04     15298.5         NaN         NaN          NaN         847.5  \n",
       "2002-07-05     15295.0         NaN         NaN          NaN         847.5  \n",
       "\n",
       "[5 rows x 21 columns]"
      ]
     },
     "execution_count": 10,
     "metadata": {},
     "output_type": "execute_result"
    }
   ],
   "source": [
    "data.head()"
   ]
  },
  {
   "cell_type": "code",
   "execution_count": 11,
   "metadata": {
    "ExecuteTime": {
     "end_time": "2019-10-14T03:12:16.973899Z",
     "start_time": "2019-10-14T03:12:16.962823Z"
    }
   },
   "outputs": [
    {
     "data": {
      "text/html": [
       "<div>\n",
       "<style scoped>\n",
       "    .dataframe tbody tr th:only-of-type {\n",
       "        vertical-align: middle;\n",
       "    }\n",
       "\n",
       "    .dataframe tbody tr th {\n",
       "        vertical-align: top;\n",
       "    }\n",
       "\n",
       "    .dataframe thead th {\n",
       "        text-align: right;\n",
       "    }\n",
       "</style>\n",
       "<table border=\"1\" class=\"dataframe\">\n",
       "  <thead>\n",
       "    <tr style=\"text-align: right;\">\n",
       "      <th></th>\n",
       "    </tr>\n",
       "    <tr>\n",
       "      <th>date</th>\n",
       "    </tr>\n",
       "  </thead>\n",
       "  <tbody>\n",
       "    <tr>\n",
       "      <th>2016-01-01</th>\n",
       "    </tr>\n",
       "    <tr>\n",
       "      <th>2016-02-01</th>\n",
       "    </tr>\n",
       "    <tr>\n",
       "      <th>2016-03-01</th>\n",
       "    </tr>\n",
       "    <tr>\n",
       "      <th>2016-04-01</th>\n",
       "    </tr>\n",
       "    <tr>\n",
       "      <th>2016-05-01</th>\n",
       "    </tr>\n",
       "  </tbody>\n",
       "</table>\n",
       "</div>"
      ],
      "text/plain": [
       "Empty DataFrame\n",
       "Columns: []\n",
       "Index: [2016-01-01 00:00:00, 2016-02-01 00:00:00, 2016-03-01 00:00:00, 2016-04-01 00:00:00, 2016-05-01 00:00:00]"
      ]
     },
     "execution_count": 11,
     "metadata": {},
     "output_type": "execute_result"
    }
   ],
   "source": [
    "test_target.head()"
   ]
  },
  {
   "cell_type": "code",
   "execution_count": 12,
   "metadata": {
    "ExecuteTime": {
     "end_time": "2019-10-14T03:12:17.002110Z",
     "start_time": "2019-10-14T03:12:16.977867Z"
    }
   },
   "outputs": [
    {
     "name": "stdout",
     "output_type": "stream",
     "text": [
      "<class 'pandas.core.frame.DataFrame'>\n",
      "DatetimeIndex: 4221 entries, 2002-07-01 to 2019-06-28\n",
      "Data columns (total 21 columns):\n",
      "brent_close     4221 non-null float64\n",
      "brent_open      4221 non-null float64\n",
      "brent_max       4221 non-null float64\n",
      "brent_min       4221 non-null float64\n",
      "USDCNY_close    4221 non-null float64\n",
      "USDCNY_open     4221 non-null float64\n",
      "USDCNY_max      4221 non-null float64\n",
      "USDCNY_min      4221 non-null float64\n",
      "USDTHB_mid      4221 non-null float64\n",
      "USDTHB_max      4220 non-null float64\n",
      "USDTHB_min      4220 non-null float64\n",
      "USDTHB_open     4220 non-null float64\n",
      "USDIDR_mid      4219 non-null float64\n",
      "USDIDR_max      4092 non-null float64\n",
      "USDIDR_min      4092 non-null float64\n",
      "USDIDR_open     4091 non-null float64\n",
      "USDVND_mid      4209 non-null float64\n",
      "USDVND_max      2675 non-null float64\n",
      "USDVND_min      2675 non-null float64\n",
      "USDVND_open     2674 non-null float64\n",
      "rubber_close    4221 non-null float64\n",
      "dtypes: float64(21)\n",
      "memory usage: 725.5 KB\n"
     ]
    }
   ],
   "source": [
    "data.info()"
   ]
  },
  {
   "cell_type": "code",
   "execution_count": 13,
   "metadata": {
    "ExecuteTime": {
     "end_time": "2019-10-14T03:12:17.755824Z",
     "start_time": "2019-10-14T03:12:17.006212Z"
    }
   },
   "outputs": [
    {
     "data": {
      "text/plain": [
       "Text(0.5, 1, 'Rubber prices')"
      ]
     },
     "execution_count": 13,
     "metadata": {},
     "output_type": "execute_result"
    },
    {
     "data": {
      "image/png": "[encoded data removed]",
      "text/plain": [
       "<Figure size 432x432 with 1 Axes>"
      ]
     },
     "metadata": {
      "needs_background": "light"
     },
     "output_type": "display_data"
    }
   ],
   "source": [
    "train_target[\"rubber\"].plot(ax=plt.gca(), label=\"target\")\n",
    "plt.legend(loc=0)\n",
    "plt.ylabel(\"$\")\n",
    "plt.tight_layout()\n",
    "plt.title(\"Rubber prices\", fontsize=12)"
   ]
  },
  {
   "cell_type": "markdown",
   "metadata": {},
   "source": [
    "# Признаки"
   ]
  },
  {
   "cell_type": "code",
   "execution_count": 14,
   "metadata": {
    "ExecuteTime": {
     "end_time": "2019-10-14T03:12:17.786388Z",
     "start_time": "2019-10-14T03:12:17.761477Z"
    }
   },
   "outputs": [],
   "source": [
    "fts = data.resample(\"D\").mean()"
   ]
  },
  {
   "cell_type": "code",
   "execution_count": 15,
   "metadata": {
    "ExecuteTime": {
     "end_time": "2019-10-14T03:12:17.797813Z",
     "start_time": "2019-10-14T03:12:17.790036Z"
    }
   },
   "outputs": [],
   "source": [
    "PERIODS = [\"1D\", \"7D\", \"30D\", \"60D\", \"180D\"]\n",
    "AGGREGATES = [\"mean\", \"median\", \"std\", \"max\", \"min\"]"
   ]
  },
  {
   "cell_type": "code",
   "execution_count": 16,
   "metadata": {
    "ExecuteTime": {
     "end_time": "2019-10-14T03:12:18.681738Z",
     "start_time": "2019-10-14T03:12:17.804611Z"
    }
   },
   "outputs": [
    {
     "data": {
      "application/vnd.jupyter.widget-view+json": {
       "model_id": "560b515e134c45e5bc5280b3c7543f57",
       "version_major": 2,
       "version_minor": 0
      },
      "text/plain": [
       "HBox(children=(IntProgress(value=0, max=5), HTML(value='')))"
      ]
     },
     "metadata": {},
     "output_type": "display_data"
    },
    {
     "name": "stdout",
     "output_type": "stream",
     "text": [
      "\n"
     ]
    }
   ],
   "source": [
    "all_features = []\n",
    "\n",
    "for period in tqdm.tqdm_notebook(PERIODS):\n",
    "    for agg in AGGREGATES:\n",
    "        if agg != \"mean\" and period == \"1D\":\n",
    "            continue\n",
    "        rolling_features = fts.rolling(period).aggregate(agg)\n",
    "        rolling_features.rename(lambda x: \"_\".join([x, period, agg]), axis=1, inplace=True)\n",
    "        all_features.append(rolling_features[rolling_features.index.day==9])"
   ]
  },
  {
   "cell_type": "code",
   "execution_count": 17,
   "metadata": {
    "ExecuteTime": {
     "end_time": "2019-10-14T03:12:18.704760Z",
     "start_time": "2019-10-14T03:12:18.688145Z"
    }
   },
   "outputs": [],
   "source": [
    "all_features = pd.concat(all_features, axis=1)"
   ]
  },
  {
   "cell_type": "code",
   "execution_count": 18,
   "metadata": {
    "ExecuteTime": {
     "end_time": "2019-10-14T03:12:18.761786Z",
     "start_time": "2019-10-14T03:12:18.709114Z"
    }
   },
   "outputs": [
    {
     "data": {
      "text/html": [
       "<div>\n",
       "<style scoped>\n",
       "    .dataframe tbody tr th:only-of-type {\n",
       "        vertical-align: middle;\n",
       "    }\n",
       "\n",
       "    .dataframe tbody tr th {\n",
       "        vertical-align: top;\n",
       "    }\n",
       "\n",
       "    .dataframe thead th {\n",
       "        text-align: right;\n",
       "    }\n",
       "</style>\n",
       "<table border=\"1\" class=\"dataframe\">\n",
       "  <thead>\n",
       "    <tr style=\"text-align: right;\">\n",
       "      <th></th>\n",
       "      <th>brent_close_1D_mean</th>\n",
       "      <th>brent_open_1D_mean</th>\n",
       "      <th>brent_max_1D_mean</th>\n",
       "      <th>brent_min_1D_mean</th>\n",
       "      <th>USDCNY_close_1D_mean</th>\n",
       "      <th>USDCNY_open_1D_mean</th>\n",
       "      <th>USDCNY_max_1D_mean</th>\n",
       "      <th>USDCNY_min_1D_mean</th>\n",
       "      <th>USDTHB_mid_1D_mean</th>\n",
       "      <th>USDTHB_max_1D_mean</th>\n",
       "      <th>...</th>\n",
       "      <th>USDTHB_open_180D_min</th>\n",
       "      <th>USDIDR_mid_180D_min</th>\n",
       "      <th>USDIDR_max_180D_min</th>\n",
       "      <th>USDIDR_min_180D_min</th>\n",
       "      <th>USDIDR_open_180D_min</th>\n",
       "      <th>USDVND_mid_180D_min</th>\n",
       "      <th>USDVND_max_180D_min</th>\n",
       "      <th>USDVND_min_180D_min</th>\n",
       "      <th>USDVND_open_180D_min</th>\n",
       "      <th>rubber_close_180D_min</th>\n",
       "    </tr>\n",
       "    <tr>\n",
       "      <th>date</th>\n",
       "      <th></th>\n",
       "      <th></th>\n",
       "      <th></th>\n",
       "      <th></th>\n",
       "      <th></th>\n",
       "      <th></th>\n",
       "      <th></th>\n",
       "      <th></th>\n",
       "      <th></th>\n",
       "      <th></th>\n",
       "      <th></th>\n",
       "      <th></th>\n",
       "      <th></th>\n",
       "      <th></th>\n",
       "      <th></th>\n",
       "      <th></th>\n",
       "      <th></th>\n",
       "      <th></th>\n",
       "      <th></th>\n",
       "      <th></th>\n",
       "      <th></th>\n",
       "    </tr>\n",
       "  </thead>\n",
       "  <tbody>\n",
       "    <tr>\n",
       "      <th>2002-07-09</th>\n",
       "      <td>25.17</td>\n",
       "      <td>25.10</td>\n",
       "      <td>25.20</td>\n",
       "      <td>24.75</td>\n",
       "      <td>8.2766</td>\n",
       "      <td>8.2766</td>\n",
       "      <td>8.2766</td>\n",
       "      <td>8.2766</td>\n",
       "      <td>41.265</td>\n",
       "      <td>41.45</td>\n",
       "      <td>...</td>\n",
       "      <td>41.42</td>\n",
       "      <td>8710.0</td>\n",
       "      <td>8715.0</td>\n",
       "      <td>8669.0</td>\n",
       "      <td>8700.0</td>\n",
       "      <td>15295.0</td>\n",
       "      <td>NaN</td>\n",
       "      <td>NaN</td>\n",
       "      <td>NaN</td>\n",
       "      <td>827.5</td>\n",
       "    </tr>\n",
       "    <tr>\n",
       "      <th>2002-08-09</th>\n",
       "      <td>NaN</td>\n",
       "      <td>NaN</td>\n",
       "      <td>NaN</td>\n",
       "      <td>NaN</td>\n",
       "      <td>NaN</td>\n",
       "      <td>NaN</td>\n",
       "      <td>NaN</td>\n",
       "      <td>NaN</td>\n",
       "      <td>NaN</td>\n",
       "      <td>NaN</td>\n",
       "      <td>...</td>\n",
       "      <td>40.39</td>\n",
       "      <td>8710.0</td>\n",
       "      <td>8715.0</td>\n",
       "      <td>8669.0</td>\n",
       "      <td>8700.0</td>\n",
       "      <td>15292.0</td>\n",
       "      <td>NaN</td>\n",
       "      <td>NaN</td>\n",
       "      <td>NaN</td>\n",
       "      <td>772.5</td>\n",
       "    </tr>\n",
       "    <tr>\n",
       "      <th>2002-09-09</th>\n",
       "      <td>28.49</td>\n",
       "      <td>28.61</td>\n",
       "      <td>28.65</td>\n",
       "      <td>28.05</td>\n",
       "      <td>8.2770</td>\n",
       "      <td>8.2770</td>\n",
       "      <td>8.2770</td>\n",
       "      <td>8.2770</td>\n",
       "      <td>42.405</td>\n",
       "      <td>42.42</td>\n",
       "      <td>...</td>\n",
       "      <td>40.39</td>\n",
       "      <td>8710.0</td>\n",
       "      <td>8715.0</td>\n",
       "      <td>8669.0</td>\n",
       "      <td>8700.0</td>\n",
       "      <td>15292.0</td>\n",
       "      <td>NaN</td>\n",
       "      <td>NaN</td>\n",
       "      <td>NaN</td>\n",
       "      <td>772.5</td>\n",
       "    </tr>\n",
       "    <tr>\n",
       "      <th>2002-10-09</th>\n",
       "      <td>28.13</td>\n",
       "      <td>28.09</td>\n",
       "      <td>28.40</td>\n",
       "      <td>27.87</td>\n",
       "      <td>8.2771</td>\n",
       "      <td>8.2771</td>\n",
       "      <td>8.2771</td>\n",
       "      <td>8.2771</td>\n",
       "      <td>43.680</td>\n",
       "      <td>43.75</td>\n",
       "      <td>...</td>\n",
       "      <td>40.39</td>\n",
       "      <td>8710.0</td>\n",
       "      <td>8715.0</td>\n",
       "      <td>8669.0</td>\n",
       "      <td>8700.0</td>\n",
       "      <td>15292.0</td>\n",
       "      <td>NaN</td>\n",
       "      <td>NaN</td>\n",
       "      <td>NaN</td>\n",
       "      <td>772.5</td>\n",
       "    </tr>\n",
       "    <tr>\n",
       "      <th>2002-11-09</th>\n",
       "      <td>NaN</td>\n",
       "      <td>NaN</td>\n",
       "      <td>NaN</td>\n",
       "      <td>NaN</td>\n",
       "      <td>NaN</td>\n",
       "      <td>NaN</td>\n",
       "      <td>NaN</td>\n",
       "      <td>NaN</td>\n",
       "      <td>NaN</td>\n",
       "      <td>NaN</td>\n",
       "      <td>...</td>\n",
       "      <td>40.39</td>\n",
       "      <td>8710.0</td>\n",
       "      <td>8715.0</td>\n",
       "      <td>8669.0</td>\n",
       "      <td>8700.0</td>\n",
       "      <td>15292.0</td>\n",
       "      <td>NaN</td>\n",
       "      <td>NaN</td>\n",
       "      <td>NaN</td>\n",
       "      <td>772.5</td>\n",
       "    </tr>\n",
       "  </tbody>\n",
       "</table>\n",
       "<p>5 rows × 441 columns</p>\n",
       "</div>"
      ],
      "text/plain": [
       "            brent_close_1D_mean  brent_open_1D_mean  brent_max_1D_mean  \\\n",
       "date                                                                     \n",
       "2002-07-09                25.17               25.10              25.20   \n",
       "2002-08-09                  NaN                 NaN                NaN   \n",
       "2002-09-09                28.49               28.61              28.65   \n",
       "2002-10-09                28.13               28.09              28.40   \n",
       "2002-11-09                  NaN                 NaN                NaN   \n",
       "\n",
       "            brent_min_1D_mean  USDCNY_close_1D_mean  USDCNY_open_1D_mean  \\\n",
       "date                                                                       \n",
       "2002-07-09              24.75                8.2766               8.2766   \n",
       "2002-08-09                NaN                   NaN                  NaN   \n",
       "2002-09-09              28.05                8.2770               8.2770   \n",
       "2002-10-09              27.87                8.2771               8.2771   \n",
       "2002-11-09                NaN                   NaN                  NaN   \n",
       "\n",
       "            USDCNY_max_1D_mean  USDCNY_min_1D_mean  USDTHB_mid_1D_mean  \\\n",
       "date                                                                     \n",
       "2002-07-09              8.2766              8.2766              41.265   \n",
       "2002-08-09                 NaN                 NaN                 NaN   \n",
       "2002-09-09              8.2770              8.2770              42.405   \n",
       "2002-10-09              8.2771              8.2771              43.680   \n",
       "2002-11-09                 NaN                 NaN                 NaN   \n",
       "\n",
       "            USDTHB_max_1D_mean  ...  USDTHB_open_180D_min  \\\n",
       "date                            ...                         \n",
       "2002-07-09               41.45  ...                 41.42   \n",
       "2002-08-09                 NaN  ...                 40.39   \n",
       "2002-09-09               42.42  ...                 40.39   \n",
       "2002-10-09               43.75  ...                 40.39   \n",
       "2002-11-09                 NaN  ...                 40.39   \n",
       "\n",
       "            USDIDR_mid_180D_min  USDIDR_max_180D_min  USDIDR_min_180D_min  \\\n",
       "date                                                                        \n",
       "2002-07-09               8710.0               8715.0               8669.0   \n",
       "2002-08-09               8710.0               8715.0               8669.0   \n",
       "2002-09-09               8710.0               8715.0               8669.0   \n",
       "2002-10-09               8710.0               8715.0               8669.0   \n",
       "2002-11-09               8710.0               8715.0               8669.0   \n",
       "\n",
       "            USDIDR_open_180D_min  USDVND_mid_180D_min  USDVND_max_180D_min  \\\n",
       "date                                                                         \n",
       "2002-07-09                8700.0              15295.0                  NaN   \n",
       "2002-08-09                8700.0              15292.0                  NaN   \n",
       "2002-09-09                8700.0              15292.0                  NaN   \n",
       "2002-10-09                8700.0              15292.0                  NaN   \n",
       "2002-11-09                8700.0              15292.0                  NaN   \n",
       "\n",
       "            USDVND_min_180D_min  USDVND_open_180D_min  rubber_close_180D_min  \n",
       "date                                                                          \n",
       "2002-07-09                  NaN                   NaN                  827.5  \n",
       "2002-08-09                  NaN                   NaN                  772.5  \n",
       "2002-09-09                  NaN                   NaN                  772.5  \n",
       "2002-10-09                  NaN                   NaN                  772.5  \n",
       "2002-11-09                  NaN                   NaN                  772.5  \n",
       "\n",
       "[5 rows x 441 columns]"
      ]
     },
     "execution_count": 18,
     "metadata": {},
     "output_type": "execute_result"
    }
   ],
   "source": [
    "all_features.head()"
   ]
  },
  {
   "cell_type": "markdown",
   "metadata": {},
   "source": [
    "Выравниваем признаки к таргету:"
   ]
  },
  {
   "cell_type": "code",
   "execution_count": 19,
   "metadata": {
    "ExecuteTime": {
     "end_time": "2019-10-14T03:12:18.782216Z",
     "start_time": "2019-10-14T03:12:18.765519Z"
    }
   },
   "outputs": [],
   "source": [
    "all_features[\"prediction_date\"] = (all_features.index\n",
    "                                   + pd.TimedeltaIndex(all_features.index.days_in_month-8,\n",
    "                                                       unit=\"D\"))"
   ]
  },
  {
   "cell_type": "markdown",
   "metadata": {},
   "source": [
    "Исключаем признаки, в которых слишком много `NaN`:"
   ]
  },
  {
   "cell_type": "code",
   "execution_count": 20,
   "metadata": {
    "ExecuteTime": {
     "end_time": "2019-10-14T03:12:18.801591Z",
     "start_time": "2019-10-14T03:12:18.785859Z"
    }
   },
   "outputs": [],
   "source": [
    "COLS = [col for col in all_features if (\"USDVND_max\" not in col\n",
    "                                        and \"USDVND_min\" not in col\n",
    "                                        and \"USDVND_open\" not in col)]\n",
    "final_fts = all_features[COLS].ffill()"
   ]
  },
  {
   "cell_type": "markdown",
   "metadata": {},
   "source": [
    "Формируем финальный датафрейм:"
   ]
  },
  {
   "cell_type": "code",
   "execution_count": 21,
   "metadata": {
    "ExecuteTime": {
     "end_time": "2019-10-14T03:12:18.865492Z",
     "start_time": "2019-10-14T03:12:18.805624Z"
    }
   },
   "outputs": [
    {
     "data": {
      "text/html": [
       "<div>\n",
       "<style scoped>\n",
       "    .dataframe tbody tr th:only-of-type {\n",
       "        vertical-align: middle;\n",
       "    }\n",
       "\n",
       "    .dataframe tbody tr th {\n",
       "        vertical-align: top;\n",
       "    }\n",
       "\n",
       "    .dataframe thead th {\n",
       "        text-align: right;\n",
       "    }\n",
       "</style>\n",
       "<table border=\"1\" class=\"dataframe\">\n",
       "  <thead>\n",
       "    <tr style=\"text-align: right;\">\n",
       "      <th></th>\n",
       "      <th>rubber</th>\n",
       "      <th>brent_close_1D_mean</th>\n",
       "      <th>brent_open_1D_mean</th>\n",
       "      <th>brent_max_1D_mean</th>\n",
       "      <th>brent_min_1D_mean</th>\n",
       "      <th>USDCNY_close_1D_mean</th>\n",
       "      <th>USDCNY_open_1D_mean</th>\n",
       "      <th>USDCNY_max_1D_mean</th>\n",
       "      <th>USDCNY_min_1D_mean</th>\n",
       "      <th>USDTHB_mid_1D_mean</th>\n",
       "      <th>...</th>\n",
       "      <th>USDTHB_mid_180D_min</th>\n",
       "      <th>USDTHB_max_180D_min</th>\n",
       "      <th>USDTHB_min_180D_min</th>\n",
       "      <th>USDTHB_open_180D_min</th>\n",
       "      <th>USDIDR_mid_180D_min</th>\n",
       "      <th>USDIDR_max_180D_min</th>\n",
       "      <th>USDIDR_min_180D_min</th>\n",
       "      <th>USDIDR_open_180D_min</th>\n",
       "      <th>USDVND_mid_180D_min</th>\n",
       "      <th>rubber_close_180D_min</th>\n",
       "    </tr>\n",
       "    <tr>\n",
       "      <th>date</th>\n",
       "      <th></th>\n",
       "      <th></th>\n",
       "      <th></th>\n",
       "      <th></th>\n",
       "      <th></th>\n",
       "      <th></th>\n",
       "      <th></th>\n",
       "      <th></th>\n",
       "      <th></th>\n",
       "      <th></th>\n",
       "      <th></th>\n",
       "      <th></th>\n",
       "      <th></th>\n",
       "      <th></th>\n",
       "      <th></th>\n",
       "      <th></th>\n",
       "      <th></th>\n",
       "      <th></th>\n",
       "      <th></th>\n",
       "      <th></th>\n",
       "      <th></th>\n",
       "    </tr>\n",
       "  </thead>\n",
       "  <tbody>\n",
       "    <tr>\n",
       "      <th>2002-08-01</th>\n",
       "      <td>830.595238</td>\n",
       "      <td>25.17</td>\n",
       "      <td>25.10</td>\n",
       "      <td>25.20</td>\n",
       "      <td>24.75</td>\n",
       "      <td>8.2766</td>\n",
       "      <td>8.2766</td>\n",
       "      <td>8.2766</td>\n",
       "      <td>8.2766</td>\n",
       "      <td>41.265</td>\n",
       "      <td>...</td>\n",
       "      <td>41.265</td>\n",
       "      <td>41.45</td>\n",
       "      <td>41.210</td>\n",
       "      <td>41.42</td>\n",
       "      <td>8710.0</td>\n",
       "      <td>8715.0</td>\n",
       "      <td>8669.0</td>\n",
       "      <td>8700.0</td>\n",
       "      <td>15295.0</td>\n",
       "      <td>827.5</td>\n",
       "    </tr>\n",
       "    <tr>\n",
       "      <th>2002-09-01</th>\n",
       "      <td>895.476190</td>\n",
       "      <td>25.17</td>\n",
       "      <td>25.10</td>\n",
       "      <td>25.20</td>\n",
       "      <td>24.75</td>\n",
       "      <td>8.2766</td>\n",
       "      <td>8.2766</td>\n",
       "      <td>8.2766</td>\n",
       "      <td>8.2766</td>\n",
       "      <td>41.265</td>\n",
       "      <td>...</td>\n",
       "      <td>40.395</td>\n",
       "      <td>40.45</td>\n",
       "      <td>40.195</td>\n",
       "      <td>40.39</td>\n",
       "      <td>8710.0</td>\n",
       "      <td>8715.0</td>\n",
       "      <td>8669.0</td>\n",
       "      <td>8700.0</td>\n",
       "      <td>15292.0</td>\n",
       "      <td>772.5</td>\n",
       "    </tr>\n",
       "    <tr>\n",
       "      <th>2002-10-01</th>\n",
       "      <td>831.304348</td>\n",
       "      <td>28.49</td>\n",
       "      <td>28.61</td>\n",
       "      <td>28.65</td>\n",
       "      <td>28.05</td>\n",
       "      <td>8.2770</td>\n",
       "      <td>8.2770</td>\n",
       "      <td>8.2770</td>\n",
       "      <td>8.2770</td>\n",
       "      <td>42.405</td>\n",
       "      <td>...</td>\n",
       "      <td>40.395</td>\n",
       "      <td>40.45</td>\n",
       "      <td>40.195</td>\n",
       "      <td>40.39</td>\n",
       "      <td>8710.0</td>\n",
       "      <td>8715.0</td>\n",
       "      <td>8669.0</td>\n",
       "      <td>8700.0</td>\n",
       "      <td>15292.0</td>\n",
       "      <td>772.5</td>\n",
       "    </tr>\n",
       "    <tr>\n",
       "      <th>2002-11-01</th>\n",
       "      <td>840.250000</td>\n",
       "      <td>28.13</td>\n",
       "      <td>28.09</td>\n",
       "      <td>28.40</td>\n",
       "      <td>27.87</td>\n",
       "      <td>8.2771</td>\n",
       "      <td>8.2771</td>\n",
       "      <td>8.2771</td>\n",
       "      <td>8.2771</td>\n",
       "      <td>43.680</td>\n",
       "      <td>...</td>\n",
       "      <td>40.395</td>\n",
       "      <td>40.45</td>\n",
       "      <td>40.195</td>\n",
       "      <td>40.39</td>\n",
       "      <td>8710.0</td>\n",
       "      <td>8715.0</td>\n",
       "      <td>8669.0</td>\n",
       "      <td>8700.0</td>\n",
       "      <td>15292.0</td>\n",
       "      <td>772.5</td>\n",
       "    </tr>\n",
       "    <tr>\n",
       "      <th>2002-12-01</th>\n",
       "      <td>849.875000</td>\n",
       "      <td>28.13</td>\n",
       "      <td>28.09</td>\n",
       "      <td>28.40</td>\n",
       "      <td>27.87</td>\n",
       "      <td>8.2771</td>\n",
       "      <td>8.2771</td>\n",
       "      <td>8.2771</td>\n",
       "      <td>8.2771</td>\n",
       "      <td>43.680</td>\n",
       "      <td>...</td>\n",
       "      <td>40.395</td>\n",
       "      <td>40.45</td>\n",
       "      <td>40.195</td>\n",
       "      <td>40.39</td>\n",
       "      <td>8710.0</td>\n",
       "      <td>8715.0</td>\n",
       "      <td>8669.0</td>\n",
       "      <td>8700.0</td>\n",
       "      <td>15292.0</td>\n",
       "      <td>772.5</td>\n",
       "    </tr>\n",
       "  </tbody>\n",
       "</table>\n",
       "<p>5 rows × 379 columns</p>\n",
       "</div>"
      ],
      "text/plain": [
       "                rubber  brent_close_1D_mean  brent_open_1D_mean  \\\n",
       "date                                                              \n",
       "2002-08-01  830.595238                25.17               25.10   \n",
       "2002-09-01  895.476190                25.17               25.10   \n",
       "2002-10-01  831.304348                28.49               28.61   \n",
       "2002-11-01  840.250000                28.13               28.09   \n",
       "2002-12-01  849.875000                28.13               28.09   \n",
       "\n",
       "            brent_max_1D_mean  brent_min_1D_mean  USDCNY_close_1D_mean  \\\n",
       "date                                                                     \n",
       "2002-08-01              25.20              24.75                8.2766   \n",
       "2002-09-01              25.20              24.75                8.2766   \n",
       "2002-10-01              28.65              28.05                8.2770   \n",
       "2002-11-01              28.40              27.87                8.2771   \n",
       "2002-12-01              28.40              27.87                8.2771   \n",
       "\n",
       "            USDCNY_open_1D_mean  USDCNY_max_1D_mean  USDCNY_min_1D_mean  \\\n",
       "date                                                                      \n",
       "2002-08-01               8.2766              8.2766              8.2766   \n",
       "2002-09-01               8.2766              8.2766              8.2766   \n",
       "2002-10-01               8.2770              8.2770              8.2770   \n",
       "2002-11-01               8.2771              8.2771              8.2771   \n",
       "2002-12-01               8.2771              8.2771              8.2771   \n",
       "\n",
       "            USDTHB_mid_1D_mean  ...  USDTHB_mid_180D_min  USDTHB_max_180D_min  \\\n",
       "date                            ...                                             \n",
       "2002-08-01              41.265  ...               41.265                41.45   \n",
       "2002-09-01              41.265  ...               40.395                40.45   \n",
       "2002-10-01              42.405  ...               40.395                40.45   \n",
       "2002-11-01              43.680  ...               40.395                40.45   \n",
       "2002-12-01              43.680  ...               40.395                40.45   \n",
       "\n",
       "            USDTHB_min_180D_min  USDTHB_open_180D_min  USDIDR_mid_180D_min  \\\n",
       "date                                                                         \n",
       "2002-08-01               41.210                 41.42               8710.0   \n",
       "2002-09-01               40.195                 40.39               8710.0   \n",
       "2002-10-01               40.195                 40.39               8710.0   \n",
       "2002-11-01               40.195                 40.39               8710.0   \n",
       "2002-12-01               40.195                 40.39               8710.0   \n",
       "\n",
       "            USDIDR_max_180D_min  USDIDR_min_180D_min  USDIDR_open_180D_min  \\\n",
       "date                                                                         \n",
       "2002-08-01               8715.0               8669.0                8700.0   \n",
       "2002-09-01               8715.0               8669.0                8700.0   \n",
       "2002-10-01               8715.0               8669.0                8700.0   \n",
       "2002-11-01               8715.0               8669.0                8700.0   \n",
       "2002-12-01               8715.0               8669.0                8700.0   \n",
       "\n",
       "            USDVND_mid_180D_min  rubber_close_180D_min  \n",
       "date                                                    \n",
       "2002-08-01              15295.0                  827.5  \n",
       "2002-09-01              15292.0                  772.5  \n",
       "2002-10-01              15292.0                  772.5  \n",
       "2002-11-01              15292.0                  772.5  \n",
       "2002-12-01              15292.0                  772.5  \n",
       "\n",
       "[5 rows x 379 columns]"
      ]
     },
     "execution_count": 21,
     "metadata": {},
     "output_type": "execute_result"
    }
   ],
   "source": [
    "df = train_target.join(final_fts.set_index(\"prediction_date\"), how=\"outer\")\n",
    "df.index.name = \"date\"\n",
    "df.head()"
   ]
  },
  {
   "cell_type": "markdown",
   "metadata": {},
   "source": [
    "Добавляем календарные признаки:"
   ]
  },
  {
   "cell_type": "code",
   "execution_count": 22,
   "metadata": {
    "ExecuteTime": {
     "end_time": "2019-10-14T03:12:18.879064Z",
     "start_time": "2019-10-14T03:12:18.869457Z"
    }
   },
   "outputs": [],
   "source": [
    "df[\"month\"] = df.index.month\n",
    "FTS_COLS = df.columns[1:]\n",
    "TARGET = \"rubber\""
   ]
  },
  {
   "cell_type": "code",
   "execution_count": 23,
   "metadata": {
    "ExecuteTime": {
     "end_time": "2019-10-14T03:12:18.942845Z",
     "start_time": "2019-10-14T03:12:18.888173Z"
    }
   },
   "outputs": [
    {
     "data": {
      "text/html": [
       "<div>\n",
       "<style scoped>\n",
       "    .dataframe tbody tr th:only-of-type {\n",
       "        vertical-align: middle;\n",
       "    }\n",
       "\n",
       "    .dataframe tbody tr th {\n",
       "        vertical-align: top;\n",
       "    }\n",
       "\n",
       "    .dataframe thead th {\n",
       "        text-align: right;\n",
       "    }\n",
       "</style>\n",
       "<table border=\"1\" class=\"dataframe\">\n",
       "  <thead>\n",
       "    <tr style=\"text-align: right;\">\n",
       "      <th></th>\n",
       "      <th>rubber</th>\n",
       "      <th>brent_close_1D_mean</th>\n",
       "      <th>brent_open_1D_mean</th>\n",
       "      <th>brent_max_1D_mean</th>\n",
       "      <th>brent_min_1D_mean</th>\n",
       "      <th>USDCNY_close_1D_mean</th>\n",
       "      <th>USDCNY_open_1D_mean</th>\n",
       "      <th>USDCNY_max_1D_mean</th>\n",
       "      <th>USDCNY_min_1D_mean</th>\n",
       "      <th>USDTHB_mid_1D_mean</th>\n",
       "      <th>...</th>\n",
       "      <th>USDTHB_max_180D_min</th>\n",
       "      <th>USDTHB_min_180D_min</th>\n",
       "      <th>USDTHB_open_180D_min</th>\n",
       "      <th>USDIDR_mid_180D_min</th>\n",
       "      <th>USDIDR_max_180D_min</th>\n",
       "      <th>USDIDR_min_180D_min</th>\n",
       "      <th>USDIDR_open_180D_min</th>\n",
       "      <th>USDVND_mid_180D_min</th>\n",
       "      <th>rubber_close_180D_min</th>\n",
       "      <th>month</th>\n",
       "    </tr>\n",
       "    <tr>\n",
       "      <th>date</th>\n",
       "      <th></th>\n",
       "      <th></th>\n",
       "      <th></th>\n",
       "      <th></th>\n",
       "      <th></th>\n",
       "      <th></th>\n",
       "      <th></th>\n",
       "      <th></th>\n",
       "      <th></th>\n",
       "      <th></th>\n",
       "      <th></th>\n",
       "      <th></th>\n",
       "      <th></th>\n",
       "      <th></th>\n",
       "      <th></th>\n",
       "      <th></th>\n",
       "      <th></th>\n",
       "      <th></th>\n",
       "      <th></th>\n",
       "      <th></th>\n",
       "      <th></th>\n",
       "    </tr>\n",
       "  </thead>\n",
       "  <tbody>\n",
       "    <tr>\n",
       "      <th>2002-08-01</th>\n",
       "      <td>830.595238</td>\n",
       "      <td>25.17</td>\n",
       "      <td>25.10</td>\n",
       "      <td>25.20</td>\n",
       "      <td>24.75</td>\n",
       "      <td>8.2766</td>\n",
       "      <td>8.2766</td>\n",
       "      <td>8.2766</td>\n",
       "      <td>8.2766</td>\n",
       "      <td>41.265</td>\n",
       "      <td>...</td>\n",
       "      <td>41.45</td>\n",
       "      <td>41.210</td>\n",
       "      <td>41.42</td>\n",
       "      <td>8710.0</td>\n",
       "      <td>8715.0</td>\n",
       "      <td>8669.0</td>\n",
       "      <td>8700.0</td>\n",
       "      <td>15295.0</td>\n",
       "      <td>827.5</td>\n",
       "      <td>8</td>\n",
       "    </tr>\n",
       "    <tr>\n",
       "      <th>2002-09-01</th>\n",
       "      <td>895.476190</td>\n",
       "      <td>25.17</td>\n",
       "      <td>25.10</td>\n",
       "      <td>25.20</td>\n",
       "      <td>24.75</td>\n",
       "      <td>8.2766</td>\n",
       "      <td>8.2766</td>\n",
       "      <td>8.2766</td>\n",
       "      <td>8.2766</td>\n",
       "      <td>41.265</td>\n",
       "      <td>...</td>\n",
       "      <td>40.45</td>\n",
       "      <td>40.195</td>\n",
       "      <td>40.39</td>\n",
       "      <td>8710.0</td>\n",
       "      <td>8715.0</td>\n",
       "      <td>8669.0</td>\n",
       "      <td>8700.0</td>\n",
       "      <td>15292.0</td>\n",
       "      <td>772.5</td>\n",
       "      <td>9</td>\n",
       "    </tr>\n",
       "    <tr>\n",
       "      <th>2002-10-01</th>\n",
       "      <td>831.304348</td>\n",
       "      <td>28.49</td>\n",
       "      <td>28.61</td>\n",
       "      <td>28.65</td>\n",
       "      <td>28.05</td>\n",
       "      <td>8.2770</td>\n",
       "      <td>8.2770</td>\n",
       "      <td>8.2770</td>\n",
       "      <td>8.2770</td>\n",
       "      <td>42.405</td>\n",
       "      <td>...</td>\n",
       "      <td>40.45</td>\n",
       "      <td>40.195</td>\n",
       "      <td>40.39</td>\n",
       "      <td>8710.0</td>\n",
       "      <td>8715.0</td>\n",
       "      <td>8669.0</td>\n",
       "      <td>8700.0</td>\n",
       "      <td>15292.0</td>\n",
       "      <td>772.5</td>\n",
       "      <td>10</td>\n",
       "    </tr>\n",
       "    <tr>\n",
       "      <th>2002-11-01</th>\n",
       "      <td>840.250000</td>\n",
       "      <td>28.13</td>\n",
       "      <td>28.09</td>\n",
       "      <td>28.40</td>\n",
       "      <td>27.87</td>\n",
       "      <td>8.2771</td>\n",
       "      <td>8.2771</td>\n",
       "      <td>8.2771</td>\n",
       "      <td>8.2771</td>\n",
       "      <td>43.680</td>\n",
       "      <td>...</td>\n",
       "      <td>40.45</td>\n",
       "      <td>40.195</td>\n",
       "      <td>40.39</td>\n",
       "      <td>8710.0</td>\n",
       "      <td>8715.0</td>\n",
       "      <td>8669.0</td>\n",
       "      <td>8700.0</td>\n",
       "      <td>15292.0</td>\n",
       "      <td>772.5</td>\n",
       "      <td>11</td>\n",
       "    </tr>\n",
       "    <tr>\n",
       "      <th>2002-12-01</th>\n",
       "      <td>849.875000</td>\n",
       "      <td>28.13</td>\n",
       "      <td>28.09</td>\n",
       "      <td>28.40</td>\n",
       "      <td>27.87</td>\n",
       "      <td>8.2771</td>\n",
       "      <td>8.2771</td>\n",
       "      <td>8.2771</td>\n",
       "      <td>8.2771</td>\n",
       "      <td>43.680</td>\n",
       "      <td>...</td>\n",
       "      <td>40.45</td>\n",
       "      <td>40.195</td>\n",
       "      <td>40.39</td>\n",
       "      <td>8710.0</td>\n",
       "      <td>8715.0</td>\n",
       "      <td>8669.0</td>\n",
       "      <td>8700.0</td>\n",
       "      <td>15292.0</td>\n",
       "      <td>772.5</td>\n",
       "      <td>12</td>\n",
       "    </tr>\n",
       "  </tbody>\n",
       "</table>\n",
       "<p>5 rows × 380 columns</p>\n",
       "</div>"
      ],
      "text/plain": [
       "                rubber  brent_close_1D_mean  brent_open_1D_mean  \\\n",
       "date                                                              \n",
       "2002-08-01  830.595238                25.17               25.10   \n",
       "2002-09-01  895.476190                25.17               25.10   \n",
       "2002-10-01  831.304348                28.49               28.61   \n",
       "2002-11-01  840.250000                28.13               28.09   \n",
       "2002-12-01  849.875000                28.13               28.09   \n",
       "\n",
       "            brent_max_1D_mean  brent_min_1D_mean  USDCNY_close_1D_mean  \\\n",
       "date                                                                     \n",
       "2002-08-01              25.20              24.75                8.2766   \n",
       "2002-09-01              25.20              24.75                8.2766   \n",
       "2002-10-01              28.65              28.05                8.2770   \n",
       "2002-11-01              28.40              27.87                8.2771   \n",
       "2002-12-01              28.40              27.87                8.2771   \n",
       "\n",
       "            USDCNY_open_1D_mean  USDCNY_max_1D_mean  USDCNY_min_1D_mean  \\\n",
       "date                                                                      \n",
       "2002-08-01               8.2766              8.2766              8.2766   \n",
       "2002-09-01               8.2766              8.2766              8.2766   \n",
       "2002-10-01               8.2770              8.2770              8.2770   \n",
       "2002-11-01               8.2771              8.2771              8.2771   \n",
       "2002-12-01               8.2771              8.2771              8.2771   \n",
       "\n",
       "            USDTHB_mid_1D_mean  ...  USDTHB_max_180D_min  USDTHB_min_180D_min  \\\n",
       "date                            ...                                             \n",
       "2002-08-01              41.265  ...                41.45               41.210   \n",
       "2002-09-01              41.265  ...                40.45               40.195   \n",
       "2002-10-01              42.405  ...                40.45               40.195   \n",
       "2002-11-01              43.680  ...                40.45               40.195   \n",
       "2002-12-01              43.680  ...                40.45               40.195   \n",
       "\n",
       "            USDTHB_open_180D_min  USDIDR_mid_180D_min  USDIDR_max_180D_min  \\\n",
       "date                                                                         \n",
       "2002-08-01                 41.42               8710.0               8715.0   \n",
       "2002-09-01                 40.39               8710.0               8715.0   \n",
       "2002-10-01                 40.39               8710.0               8715.0   \n",
       "2002-11-01                 40.39               8710.0               8715.0   \n",
       "2002-12-01                 40.39               8710.0               8715.0   \n",
       "\n",
       "            USDIDR_min_180D_min  USDIDR_open_180D_min  USDVND_mid_180D_min  \\\n",
       "date                                                                         \n",
       "2002-08-01               8669.0                8700.0              15295.0   \n",
       "2002-09-01               8669.0                8700.0              15292.0   \n",
       "2002-10-01               8669.0                8700.0              15292.0   \n",
       "2002-11-01               8669.0                8700.0              15292.0   \n",
       "2002-12-01               8669.0                8700.0              15292.0   \n",
       "\n",
       "            rubber_close_180D_min  month  \n",
       "date                                      \n",
       "2002-08-01                  827.5      8  \n",
       "2002-09-01                  772.5      9  \n",
       "2002-10-01                  772.5     10  \n",
       "2002-11-01                  772.5     11  \n",
       "2002-12-01                  772.5     12  \n",
       "\n",
       "[5 rows x 380 columns]"
      ]
     },
     "execution_count": 23,
     "metadata": {},
     "output_type": "execute_result"
    }
   ],
   "source": [
    "df.head()"
   ]
  },
  {
   "cell_type": "markdown",
   "metadata": {
    "ExecuteTime": {
     "end_time": "2019-08-19T09:49:55.190063Z",
     "start_time": "2019-08-19T09:49:55.006567Z"
    }
   },
   "source": [
    "# Модели"
   ]
  },
  {
   "cell_type": "code",
   "execution_count": 24,
   "metadata": {
    "ExecuteTime": {
     "end_time": "2019-10-14T03:12:18.953220Z",
     "start_time": "2019-10-14T03:12:18.947393Z"
    }
   },
   "outputs": [],
   "source": [
    "def mape(y_true, y_pred):\n",
    "    return np.mean(np.abs((y_pred-y_true)/y_true))"
   ]
  },
  {
   "cell_type": "markdown",
   "metadata": {
    "ExecuteTime": {
     "end_time": "2019-08-19T09:24:37.015624Z",
     "start_time": "2019-08-19T09:24:37.010868Z"
    }
   },
   "source": [
    "## Train/CV"
   ]
  },
  {
   "cell_type": "code",
   "execution_count": 25,
   "metadata": {
    "ExecuteTime": {
     "end_time": "2019-10-14T03:12:18.977110Z",
     "start_time": "2019-10-14T03:12:18.958955Z"
    }
   },
   "outputs": [],
   "source": [
    "tr = df[:\"2013\"].copy()\n",
    "cv = df[\"2014\":\"2015\"].copy()\n",
    "ts = df[\"2016\":].copy()"
   ]
  },
  {
   "cell_type": "code",
   "execution_count": 26,
   "metadata": {
    "ExecuteTime": {
     "end_time": "2019-10-14T03:12:19.838093Z",
     "start_time": "2019-10-14T03:12:18.981745Z"
    }
   },
   "outputs": [
    {
     "data": {
      "text/plain": [
       "Text(0.5, 1, 'Rubber prices')"
      ]
     },
     "execution_count": 26,
     "metadata": {},
     "output_type": "execute_result"
    },
    {
     "data": {
      "image/png": "[encoded data removed]",
      "text/plain": [
       "<Figure size 432x432 with 1 Axes>"
      ]
     },
     "metadata": {
      "needs_background": "light"
     },
     "output_type": "display_data"
    }
   ],
   "source": [
    "tr[\"rubber\"].plot(ax=plt.gca(), label=\"train\")\n",
    "cv[\"rubber\"].plot(ax=plt.gca(), label=\"cv\")\n",
    "plt.legend(loc=0)\n",
    "plt.ylabel(\"$\")\n",
    "plt.tight_layout()\n",
    "plt.title(\"Rubber prices\", fontsize=12)"
   ]
  },
  {
   "cell_type": "markdown",
   "metadata": {
    "ExecuteTime": {
     "end_time": "2019-08-19T09:52:37.255429Z",
     "start_time": "2019-08-19T09:52:37.179732Z"
    }
   },
   "source": [
    "## Тривиальные бенчмарки"
   ]
  },
  {
   "cell_type": "code",
   "execution_count": 27,
   "metadata": {
    "ExecuteTime": {
     "end_time": "2019-10-14T03:12:19.863282Z",
     "start_time": "2019-10-14T03:12:19.842416Z"
    }
   },
   "outputs": [
    {
     "name": "stdout",
     "output_type": "stream",
     "text": [
      "Naive benchmark (last known value): 53.6%\n",
      "Naive benchmark (TR period median): 41.3%\n"
     ]
    }
   ],
   "source": [
    "print(f\"Naive benchmark (last known value): {100 * mape(cv[TARGET], tr.iloc[-1][TARGET]):0.1f}%\")\n",
    "print(f\"Naive benchmark (TR period median): {100 * mape(cv[TARGET], tr[TARGET].median()):0.1f}%\")"
   ]
  },
  {
   "cell_type": "code",
   "execution_count": 28,
   "metadata": {
    "ExecuteTime": {
     "end_time": "2019-10-14T03:12:19.880935Z",
     "start_time": "2019-10-14T03:12:19.866674Z"
    }
   },
   "outputs": [],
   "source": [
    "naive_baseline = test_target.copy()\n",
    "naive_baseline[\"rubber\"] = df[TARGET].median()\n",
    "naive_baseline.to_csv(DATA_DIR.joinpath(\"rubber_naive_baseline.csv\"))"
   ]
  },
  {
   "cell_type": "markdown",
   "metadata": {
    "ExecuteTime": {
     "end_time": "2019-08-19T09:54:49.843710Z",
     "start_time": "2019-08-19T09:54:49.837469Z"
    }
   },
   "source": [
    "## Фильтруем признаки"
   ]
  },
  {
   "cell_type": "code",
   "execution_count": 29,
   "metadata": {
    "ExecuteTime": {
     "end_time": "2019-10-14T03:12:19.969464Z",
     "start_time": "2019-10-14T03:12:19.884542Z"
    }
   },
   "outputs": [],
   "source": [
    "corrs = tr.corr().loc[\"rubber\", FTS_COLS[:-1]]"
   ]
  },
  {
   "cell_type": "code",
   "execution_count": 30,
   "metadata": {
    "ExecuteTime": {
     "end_time": "2019-10-14T03:12:19.987230Z",
     "start_time": "2019-10-14T03:12:19.973129Z"
    }
   },
   "outputs": [
    {
     "data": {
      "text/plain": [
       "rubber_close_7D_median      0.968383\n",
       "rubber_close_7D_mean        0.968337\n",
       "rubber_close_7D_max         0.968215\n",
       "rubber_close_7D_min         0.967186\n",
       "rubber_close_30D_min        0.962127\n",
       "rubber_close_30D_mean       0.959973\n",
       "rubber_close_30D_median     0.958078\n",
       "rubber_close_30D_max        0.957488\n",
       "rubber_close_1D_mean        0.956704\n",
       "rubber_close_60D_min        0.949088\n",
       "rubber_close_60D_mean       0.944412\n",
       "rubber_close_60D_median     0.942929\n",
       "rubber_close_60D_max        0.942380\n",
       "rubber_close_180D_max       0.905469\n",
       "rubber_close_180D_mean      0.890323\n",
       "rubber_close_180D_min       0.888066\n",
       "rubber_close_180D_median    0.877869\n",
       "USDTHB_max_7D_median        0.831652\n",
       "USDTHB_max_7D_mean          0.831088\n",
       "USDTHB_max_7D_min           0.829730\n",
       "USDTHB_max_7D_max           0.828958\n",
       "USDTHB_open_7D_max          0.828657\n",
       "USDTHB_max_1D_mean          0.828566\n",
       "USDTHB_max_30D_max          0.827968\n",
       "USDTHB_open_30D_max         0.827773\n",
       "Name: rubber, dtype: float64"
      ]
     },
     "execution_count": 30,
     "metadata": {},
     "output_type": "execute_result"
    }
   ],
   "source": [
    "corrs.abs().sort_values(ascending=False).head(25)"
   ]
  },
  {
   "cell_type": "code",
   "execution_count": 31,
   "metadata": {
    "ExecuteTime": {
     "end_time": "2019-10-14T03:12:20.509115Z",
     "start_time": "2019-10-14T03:12:19.990934Z"
    }
   },
   "outputs": [
    {
     "data": {
      "text/plain": [
       "<matplotlib.axes._subplots.AxesSubplot at 0x7f2698bab940>"
      ]
     },
     "execution_count": 31,
     "metadata": {},
     "output_type": "execute_result"
    },
    {
     "data": {
      "image/png": "[encoded data removed]",
      "text/plain": [
       "<Figure size 432x432 with 1 Axes>"
      ]
     },
     "metadata": {
      "needs_background": "light"
     },
     "output_type": "display_data"
    }
   ],
   "source": [
    "corrs.abs().plot(kind=\"hist\")"
   ]
  },
  {
   "cell_type": "markdown",
   "metadata": {},
   "source": [
    "Выбираем 50 признаков с наибольшей корреляцией:"
   ]
  },
  {
   "cell_type": "code",
   "execution_count": 32,
   "metadata": {
    "ExecuteTime": {
     "end_time": "2019-10-14T03:12:20.520011Z",
     "start_time": "2019-10-14T03:12:20.512702Z"
    }
   },
   "outputs": [],
   "source": [
    "FCOLS = corrs[corrs.abs()>=0.2].index"
   ]
  },
  {
   "cell_type": "code",
   "execution_count": 33,
   "metadata": {
    "ExecuteTime": {
     "end_time": "2019-10-14T03:12:20.531199Z",
     "start_time": "2019-10-14T03:12:20.523497Z"
    }
   },
   "outputs": [
    {
     "data": {
      "text/plain": [
       "Index(['brent_close_1D_mean', 'brent_open_1D_mean', 'brent_max_1D_mean',\n",
       "       'brent_min_1D_mean', 'USDCNY_close_1D_mean', 'USDCNY_open_1D_mean',\n",
       "       'USDCNY_max_1D_mean', 'USDCNY_min_1D_mean', 'USDTHB_mid_1D_mean',\n",
       "       'USDTHB_max_1D_mean',\n",
       "       ...\n",
       "       'USDCNY_close_180D_min', 'USDCNY_open_180D_min', 'USDCNY_max_180D_min',\n",
       "       'USDCNY_min_180D_min', 'USDTHB_mid_180D_min', 'USDTHB_max_180D_min',\n",
       "       'USDTHB_min_180D_min', 'USDTHB_open_180D_min', 'USDVND_mid_180D_min',\n",
       "       'rubber_close_180D_min'],\n",
       "      dtype='object', length=288)"
      ]
     },
     "execution_count": 33,
     "metadata": {},
     "output_type": "execute_result"
    }
   ],
   "source": [
    "FCOLS"
   ]
  },
  {
   "cell_type": "markdown",
   "metadata": {
    "ExecuteTime": {
     "end_time": "2019-08-19T10:22:46.468920Z",
     "start_time": "2019-08-19T10:22:46.443934Z"
    }
   },
   "source": [
    "## Линейная модель"
   ]
  },
  {
   "cell_type": "markdown",
   "metadata": {},
   "source": [
    "Подбираем параметры:"
   ]
  },
  {
   "cell_type": "code",
   "execution_count": 34,
   "metadata": {
    "ExecuteTime": {
     "end_time": "2019-10-14T03:12:27.914747Z",
     "start_time": "2019-10-14T03:12:20.534987Z"
    }
   },
   "outputs": [
    {
     "name": "stderr",
     "output_type": "stream",
     "text": [
      "/home/traveller/.local/lib/python3.6/site-packages/sklearn/linear_model/coordinate_descent.py:475: ConvergenceWarning: Objective did not converge. You might want to increase the number of iterations. Duality gap: 1541580.4332298634, tolerance: 16320.345978872765\n",
      "  positive)\n",
      "/home/traveller/.local/lib/python3.6/site-packages/sklearn/linear_model/coordinate_descent.py:475: ConvergenceWarning: Objective did not converge. You might want to increase the number of iterations. Duality gap: 1522751.5818968634, tolerance: 16320.345978872765\n",
      "  positive)\n",
      "/home/traveller/.local/lib/python3.6/site-packages/sklearn/linear_model/coordinate_descent.py:475: ConvergenceWarning: Objective did not converge. You might want to increase the number of iterations. Duality gap: 1482549.364766075, tolerance: 16320.345978872765\n",
      "  positive)\n",
      "/home/traveller/.local/lib/python3.6/site-packages/sklearn/linear_model/coordinate_descent.py:475: ConvergenceWarning: Objective did not converge. You might want to increase the number of iterations. Duality gap: 1419367.2665616141, tolerance: 16320.345978872765\n",
      "  positive)\n",
      "/home/traveller/.local/lib/python3.6/site-packages/sklearn/linear_model/coordinate_descent.py:475: ConvergenceWarning: Objective did not converge. You might want to increase the number of iterations. Duality gap: 996008.6789057836, tolerance: 16320.345978872765\n",
      "  positive)\n",
      "/home/traveller/.local/lib/python3.6/site-packages/sklearn/linear_model/coordinate_descent.py:475: ConvergenceWarning: Objective did not converge. You might want to increase the number of iterations. Duality gap: 1837053.802394314, tolerance: 16320.345978872765\n",
      "  positive)\n",
      "/home/traveller/.local/lib/python3.6/site-packages/sklearn/linear_model/coordinate_descent.py:475: ConvergenceWarning: Objective did not converge. You might want to increase the number of iterations. Duality gap: 1810891.4310915757, tolerance: 16320.345978872765\n",
      "  positive)\n",
      "/home/traveller/.local/lib/python3.6/site-packages/sklearn/linear_model/coordinate_descent.py:475: ConvergenceWarning: Objective did not converge. You might want to increase the number of iterations. Duality gap: 1755841.7077252173, tolerance: 16320.345978872765\n",
      "  positive)\n",
      "/home/traveller/.local/lib/python3.6/site-packages/sklearn/linear_model/coordinate_descent.py:475: ConvergenceWarning: Objective did not converge. You might want to increase the number of iterations. Duality gap: 1671522.3368108147, tolerance: 16320.345978872765\n",
      "  positive)\n",
      "/home/traveller/.local/lib/python3.6/site-packages/sklearn/linear_model/coordinate_descent.py:475: ConvergenceWarning: Objective did not converge. You might want to increase the number of iterations. Duality gap: 1223459.740966204, tolerance: 16320.345978872765\n",
      "  positive)\n",
      "/home/traveller/.local/lib/python3.6/site-packages/sklearn/linear_model/coordinate_descent.py:475: ConvergenceWarning: Objective did not converge. You might want to increase the number of iterations. Duality gap: 2170407.31827087, tolerance: 16320.345978872765\n",
      "  positive)\n",
      "/home/traveller/.local/lib/python3.6/site-packages/sklearn/linear_model/coordinate_descent.py:475: ConvergenceWarning: Objective did not converge. You might want to increase the number of iterations. Duality gap: 2150691.5046167695, tolerance: 16320.345978872765\n",
      "  positive)\n",
      "/home/traveller/.local/lib/python3.6/site-packages/sklearn/linear_model/coordinate_descent.py:475: ConvergenceWarning: Objective did not converge. You might want to increase the number of iterations. Duality gap: 2105451.992736116, tolerance: 16320.345978872765\n",
      "  positive)\n",
      "/home/traveller/.local/lib/python3.6/site-packages/sklearn/linear_model/coordinate_descent.py:475: ConvergenceWarning: Objective did not converge. You might want to increase the number of iterations. Duality gap: 2024585.268686691, tolerance: 16320.345978872765\n",
      "  positive)\n",
      "/home/traveller/.local/lib/python3.6/site-packages/sklearn/linear_model/coordinate_descent.py:475: ConvergenceWarning: Objective did not converge. You might want to increase the number of iterations. Duality gap: 1539096.7570970573, tolerance: 16320.345978872765\n",
      "  positive)\n",
      "/home/traveller/.local/lib/python3.6/site-packages/sklearn/linear_model/coordinate_descent.py:475: ConvergenceWarning: Objective did not converge. You might want to increase the number of iterations. Duality gap: 2512077.0879035676, tolerance: 16320.345978872765\n",
      "  positive)\n",
      "/home/traveller/.local/lib/python3.6/site-packages/sklearn/linear_model/coordinate_descent.py:475: ConvergenceWarning: Objective did not converge. You might want to increase the number of iterations. Duality gap: 2494413.9287931267, tolerance: 16320.345978872765\n",
      "  positive)\n",
      "/home/traveller/.local/lib/python3.6/site-packages/sklearn/linear_model/coordinate_descent.py:475: ConvergenceWarning: Objective did not converge. You might want to increase the number of iterations. Duality gap: 2454551.882991188, tolerance: 16320.345978872765\n",
      "  positive)\n",
      "/home/traveller/.local/lib/python3.6/site-packages/sklearn/linear_model/coordinate_descent.py:475: ConvergenceWarning: Objective did not converge. You might want to increase the number of iterations. Duality gap: 2391838.9781813053, tolerance: 16320.345978872765\n",
      "  positive)\n",
      "/home/traveller/.local/lib/python3.6/site-packages/sklearn/linear_model/coordinate_descent.py:475: ConvergenceWarning: Objective did not converge. You might want to increase the number of iterations. Duality gap: 2152336.183630287, tolerance: 16320.345978872765\n",
      "  positive)\n",
      "/home/traveller/.local/lib/python3.6/site-packages/sklearn/linear_model/coordinate_descent.py:475: ConvergenceWarning: Objective did not converge. You might want to increase the number of iterations. Duality gap: 2814465.5598231256, tolerance: 16320.345978872765\n",
      "  positive)\n",
      "/home/traveller/.local/lib/python3.6/site-packages/sklearn/linear_model/coordinate_descent.py:475: ConvergenceWarning: Objective did not converge. You might want to increase the number of iterations. Duality gap: 2813510.697435531, tolerance: 16320.345978872765\n",
      "  positive)\n",
      "/home/traveller/.local/lib/python3.6/site-packages/sklearn/linear_model/coordinate_descent.py:475: ConvergenceWarning: Objective did not converge. You might want to increase the number of iterations. Duality gap: 2810339.8765413268, tolerance: 16320.345978872765\n",
      "  positive)\n",
      "/home/traveller/.local/lib/python3.6/site-packages/sklearn/linear_model/coordinate_descent.py:475: ConvergenceWarning: Objective did not converge. You might want to increase the number of iterations. Duality gap: 2801312.2391837174, tolerance: 16320.345978872765\n",
      "  positive)\n",
      "/home/traveller/.local/lib/python3.6/site-packages/sklearn/linear_model/coordinate_descent.py:475: ConvergenceWarning: Objective did not converge. You might want to increase the number of iterations. Duality gap: 2722112.6067325626, tolerance: 16320.345978872765\n",
      "  positive)\n",
      "/home/traveller/.local/lib/python3.6/site-packages/sklearn/linear_model/coordinate_descent.py:475: ConvergenceWarning: Objective did not converge. You might want to increase the number of iterations. Duality gap: 3248635.670821081, tolerance: 16320.345978872765\n",
      "  positive)\n",
      "/home/traveller/.local/lib/python3.6/site-packages/sklearn/linear_model/coordinate_descent.py:475: ConvergenceWarning: Objective did not converge. You might want to increase the number of iterations. Duality gap: 3235483.4214415513, tolerance: 16320.345978872765\n",
      "  positive)\n",
      "/home/traveller/.local/lib/python3.6/site-packages/sklearn/linear_model/coordinate_descent.py:475: ConvergenceWarning: Objective did not converge. You might want to increase the number of iterations. Duality gap: 3201869.404589511, tolerance: 16320.345978872765\n",
      "  positive)\n",
      "/home/traveller/.local/lib/python3.6/site-packages/sklearn/linear_model/coordinate_descent.py:475: ConvergenceWarning: Objective did not converge. You might want to increase the number of iterations. Duality gap: 3127014.1548916986, tolerance: 16320.345978872765\n",
      "  positive)\n",
      "/home/traveller/.local/lib/python3.6/site-packages/sklearn/linear_model/coordinate_descent.py:475: ConvergenceWarning: Objective did not converge. You might want to increase the number of iterations. Duality gap: 3024872.379492379, tolerance: 16320.345978872765\n",
      "  positive)\n",
      "/home/traveller/.local/lib/python3.6/site-packages/sklearn/linear_model/coordinate_descent.py:475: ConvergenceWarning: Objective did not converge. You might want to increase the number of iterations. Duality gap: 3170494.121181568, tolerance: 16320.345978872765\n",
      "  positive)\n",
      "/home/traveller/.local/lib/python3.6/site-packages/sklearn/linear_model/coordinate_descent.py:475: ConvergenceWarning: Objective did not converge. You might want to increase the number of iterations. Duality gap: 2162051.654028502, tolerance: 16320.345978872765\n",
      "  positive)\n",
      "/home/traveller/.local/lib/python3.6/site-packages/sklearn/linear_model/coordinate_descent.py:475: ConvergenceWarning: Objective did not converge. You might want to increase the number of iterations. Duality gap: 1129116.1579850824, tolerance: 16320.345978872765\n",
      "  positive)\n",
      "/home/traveller/.local/lib/python3.6/site-packages/sklearn/linear_model/coordinate_descent.py:475: ConvergenceWarning: Objective did not converge. You might want to increase the number of iterations. Duality gap: 684097.60799322, tolerance: 16320.345978872765\n",
      "  positive)\n",
      "/home/traveller/.local/lib/python3.6/site-packages/sklearn/linear_model/coordinate_descent.py:475: ConvergenceWarning: Objective did not converge. You might want to increase the number of iterations. Duality gap: 597196.9484748868, tolerance: 16320.345978872765\n",
      "  positive)\n",
      "/home/traveller/.local/lib/python3.6/site-packages/sklearn/linear_model/coordinate_descent.py:475: ConvergenceWarning: Objective did not converge. You might want to increase the number of iterations. Duality gap: 433020.0804671543, tolerance: 16320.345978872765\n",
      "  positive)\n",
      "/home/traveller/.local/lib/python3.6/site-packages/sklearn/linear_model/coordinate_descent.py:475: ConvergenceWarning: Objective did not converge. You might want to increase the number of iterations. Duality gap: 85149.7427077815, tolerance: 16320.345978872765\n",
      "  positive)\n",
      "/home/traveller/.local/lib/python3.6/site-packages/sklearn/linear_model/coordinate_descent.py:475: ConvergenceWarning: Objective did not converge. You might want to increase the number of iterations. Duality gap: 31114.545713713393, tolerance: 16320.345978872765\n",
      "  positive)\n"
     ]
    }
   ],
   "source": [
    "params = ParameterGrid({\"alpha\":[0.001, 0.01, 0.1, 1, 10, 100, 1000, 10000], \"l1_ratio\":[0.1, 0.25, 0.5, 0.75, 1.]})\n",
    "errors = []\n",
    "\n",
    "for param in params:\n",
    "    lmodel = ElasticNet(alpha=param[\"alpha\"], l1_ratio=param[\"l1_ratio\"], random_state=RS)\n",
    "    lmodel.fit(tr[FCOLS], tr[TARGET])\n",
    "\n",
    "    ltr_preds = pd.Series(lmodel.predict(tr[FCOLS]), index=tr.index)\n",
    "    lcv_preds = pd.Series(lmodel.predict(cv[FCOLS]), index=cv.index)\n",
    "\n",
    "    cv_mape = mape(cv[TARGET], lcv_preds)\n",
    "    errors.append({\"mape\":cv_mape, \"alpha\":param[\"alpha\"], \"l1_ratio\":param[\"l1_ratio\"]})\n",
    "\n",
    "errors = pd.DataFrame.from_records(errors)"
   ]
  },
  {
   "cell_type": "code",
   "execution_count": 35,
   "metadata": {
    "ExecuteTime": {
     "end_time": "2019-10-14T03:12:27.949941Z",
     "start_time": "2019-10-14T03:12:27.920610Z"
    }
   },
   "outputs": [
    {
     "data": {
      "text/plain": [
       "alpha       10000.000000\n",
       "l1_ratio        0.100000\n",
       "mape            0.057146\n",
       "Name: 35, dtype: float64"
      ]
     },
     "execution_count": 35,
     "metadata": {},
     "output_type": "execute_result"
    }
   ],
   "source": [
    "errors.iloc[errors[\"mape\"].idxmin()]"
   ]
  },
  {
   "cell_type": "code",
   "execution_count": 36,
   "metadata": {
    "ExecuteTime": {
     "end_time": "2019-10-14T03:12:28.096910Z",
     "start_time": "2019-10-14T03:12:27.956693Z"
    }
   },
   "outputs": [
    {
     "name": "stderr",
     "output_type": "stream",
     "text": [
      "/home/traveller/.local/lib/python3.6/site-packages/sklearn/linear_model/coordinate_descent.py:475: ConvergenceWarning: Objective did not converge. You might want to increase the number of iterations. Duality gap: 433020.0804671543, tolerance: 16320.345978872765\n",
      "  positive)\n"
     ]
    },
    {
     "data": {
      "text/plain": [
       "ElasticNet(alpha=10000.0, copy_X=True, fit_intercept=True, l1_ratio=0.1,\n",
       "           max_iter=1000, normalize=False, positive=False, precompute=False,\n",
       "           random_state=283654, selection='cyclic', tol=0.0001,\n",
       "           warm_start=False)"
      ]
     },
     "execution_count": 36,
     "metadata": {},
     "output_type": "execute_result"
    }
   ],
   "source": [
    "lmodel = ElasticNet(alpha=1e4, l1_ratio=0.1, random_state=RS)\n",
    "lmodel.fit(tr[FCOLS], tr[TARGET])"
   ]
  },
  {
   "cell_type": "markdown",
   "metadata": {},
   "source": [
    "Визуализируем предсказания:"
   ]
  },
  {
   "cell_type": "code",
   "execution_count": 37,
   "metadata": {
    "ExecuteTime": {
     "end_time": "2019-10-14T03:12:29.154283Z",
     "start_time": "2019-10-14T03:12:28.110211Z"
    }
   },
   "outputs": [
    {
     "name": "stdout",
     "output_type": "stream",
     "text": [
      "TR performance: 8.1%\n",
      "CV performance: 5.7%\n"
     ]
    },
    {
     "data": {
      "image/png": "[encoded data removed]",
      "text/plain": [
       "<Figure size 432x432 with 1 Axes>"
      ]
     },
     "metadata": {
      "needs_background": "light"
     },
     "output_type": "display_data"
    }
   ],
   "source": [
    "ltr_preds = pd.Series(lmodel.predict(tr[FCOLS]), index=tr.index)\n",
    "lcv_preds = pd.Series(lmodel.predict(cv[FCOLS]), index=cv.index)\n",
    "\n",
    "print(f\"TR performance: {100 * mape(tr[TARGET], ltr_preds):0.1f}%\")\n",
    "print(f\"CV performance: {100 * mape(cv[TARGET], lcv_preds):0.1f}%\")\n",
    "\n",
    "plt.figure()\n",
    "tr[TARGET].plot(ax=plt.gca(), label=\"rubber prices\");\n",
    "cv[TARGET].plot(ax=plt.gca(), label=\"rubber prices\");\n",
    "ltr_preds.plot(ax=plt.gca(), label=\"TR\");\n",
    "lcv_preds.plot(ax=plt.gca(), label=\"CV\");\n",
    "plt.legend(loc=0);"
   ]
  },
  {
   "cell_type": "markdown",
   "metadata": {
    "ExecuteTime": {
     "end_time": "2019-10-13T19:31:59.688913Z",
     "start_time": "2019-10-13T19:31:59.672549Z"
    }
   },
   "source": [
    "Считаем предсказания для тестового набора:"
   ]
  },
  {
   "cell_type": "code",
   "execution_count": 38,
   "metadata": {
    "ExecuteTime": {
     "end_time": "2019-10-14T03:12:29.186315Z",
     "start_time": "2019-10-14T03:12:29.160174Z"
    }
   },
   "outputs": [],
   "source": [
    "ts_preds = pd.DataFrame(lmodel.predict(ts[FCOLS]), columns=[\"rubber\"], index=ts.index)\n",
    "ts_preds.loc[test_target.index].to_csv(DATA_DIR.joinpath(\"rubber_linear_baseline.csv\"))"
   ]
  },
  {
   "cell_type": "code",
   "execution_count": null,
   "metadata": {},
   "outputs": [],
   "source": []
  }
 ],
 "metadata": {
  "@webio": {
   "lastCommId": null,
   "lastKernelId": null
  },
  "kernelspec": {
   "display_name": "Python 3",
   "language": "python",
   "name": "python3"
  },
  "language_info": {
   "codemirror_mode": {
    "name": "ipython",
    "version": 3
   },
   "file_extension": ".py",
   "mimetype": "text/x-python",
   "name": "python",
   "nbconvert_exporter": "python",
   "pygments_lexer": "ipython3",
   "version": "3.7.4"
  },
  "nteract": {
   "version": "0.15.0"
  },
  "toc": {
   "base_numbering": 1,
   "nav_menu": {},
   "number_sections": true,
   "sideBar": true,
   "skip_h1_title": false,
   "title_cell": "Table of Contents",
   "title_sidebar": "Contents",
   "toc_cell": false,
   "toc_position": {},
   "toc_section_display": true,
   "toc_window_display": false
  }
 },
 "nbformat": 4,
 "nbformat_minor": 4
}
